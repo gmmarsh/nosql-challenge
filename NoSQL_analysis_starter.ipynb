{
 "cells": [
  {
   "cell_type": "markdown",
   "id": "9a57c4c6",
   "metadata": {},
   "source": [
    "# Eat Safe, Love"
   ]
  },
  {
   "cell_type": "markdown",
   "id": "064ef857",
   "metadata": {},
   "source": [
    "## Notebook Set Up"
   ]
  },
  {
   "cell_type": "code",
   "execution_count": 1,
   "id": "3ecdd008",
   "metadata": {},
   "outputs": [],
   "source": [
    "from pymongo import MongoClient\n",
    "import pandas as pd\n",
    "from pprint import pprint"
   ]
  },
  {
   "cell_type": "code",
   "execution_count": 2,
   "id": "59390c4a",
   "metadata": {},
   "outputs": [],
   "source": [
    "# Create an instance of MongoClient\n",
    "mongo = MongoClient(port=27017)"
   ]
  },
  {
   "cell_type": "code",
   "execution_count": 3,
   "id": "71e373c1",
   "metadata": {},
   "outputs": [],
   "source": [
    "# assign the uk_food database to a variable name\n",
    "db = mongo['uk_food']"
   ]
  },
  {
   "cell_type": "code",
   "execution_count": 4,
   "id": "18ab463c",
   "metadata": {},
   "outputs": [
    {
     "name": "stdout",
     "output_type": "stream",
     "text": [
      "['establishments']\n"
     ]
    }
   ],
   "source": [
    "# review the collections in our database\n",
    "print(db.list_collection_names())"
   ]
  },
  {
   "cell_type": "code",
   "execution_count": 5,
   "id": "11c9f11b",
   "metadata": {},
   "outputs": [],
   "source": [
    "# assign the collection to a variable\n",
    "establishments = db['establishments']"
   ]
  },
  {
   "cell_type": "markdown",
   "id": "d5671434",
   "metadata": {},
   "source": [
    "## Part 3: Exploratory Analysis\n",
    "Unless otherwise stated, for each question: \n",
    "* Use `count_documents` to display the number of documents contained in the result.\n",
    "* Display the first document in the results using `pprint`.\n",
    "* Convert the result to a Pandas DataFrame, print the number of rows in the DataFrame, and display the first 10 rows."
   ]
  },
  {
   "cell_type": "markdown",
   "id": "314bd884",
   "metadata": {},
   "source": [
    "### 1. Which establishments have a hygiene score equal to 20?"
   ]
  },
  {
   "cell_type": "code",
   "execution_count": 6,
   "id": "c2da7648",
   "metadata": {},
   "outputs": [],
   "source": [
    "# query documents with a scores Hygiene rating equal to 20\n",
    "q1_query = {\"scores.Hygiene\": 20}\n",
    "q1_fields = {\"_id\": 0, \"BusinessName\": 1, \"scores.Hygiene\": 1}\n",
    "q1_results = list(establishments.find(q1_query, q1_fields))"
   ]
  },
  {
   "cell_type": "code",
   "execution_count": 7,
   "id": "0d25dd82",
   "metadata": {},
   "outputs": [
    {
     "name": "stdout",
     "output_type": "stream",
     "text": [
      "41\n"
     ]
    }
   ],
   "source": [
    "# counn_documents() method to count the number of documents that match the query\n",
    "print(establishments.count_documents(q1_query))"
   ]
  },
  {
   "cell_type": "code",
   "execution_count": 8,
   "id": "9cd81ce8",
   "metadata": {},
   "outputs": [
    {
     "name": "stdout",
     "output_type": "stream",
     "text": [
      "{'BusinessName': 'The Chase Rest Home', 'scores': {'Hygiene': 20}}\n"
     ]
    }
   ],
   "source": [
    "# print the first result\n",
    "pprint(list(q1_results)[0])"
   ]
  },
  {
   "cell_type": "code",
   "execution_count": 9,
   "id": "b975a7dd",
   "metadata": {},
   "outputs": [],
   "source": [
    "# create a dataframe from the results\n",
    "q1_df = pd.DataFrame(list(q1_results))"
   ]
  },
  {
   "cell_type": "code",
   "execution_count": 10,
   "id": "7aa6cb35",
   "metadata": {},
   "outputs": [
    {
     "name": "stdout",
     "output_type": "stream",
     "text": [
      "(41, 2)\n"
     ]
    }
   ],
   "source": [
    "# print the shape of the dataframe\n",
    "print(q1_df.shape)"
   ]
  },
  {
   "cell_type": "code",
   "execution_count": 11,
   "id": "e50f16c4",
   "metadata": {},
   "outputs": [
    {
     "name": "stdout",
     "output_type": "stream",
     "text": [
      "                BusinessName           scores\n",
      "0        The Chase Rest Home  {'Hygiene': 20}\n",
      "1                 Brenalwood  {'Hygiene': 20}\n",
      "2              Melrose Hotel  {'Hygiene': 20}\n",
      "3              Seaford Pizza  {'Hygiene': 20}\n",
      "4              Golden Palace  {'Hygiene': 20}\n",
      "5           Ashby's Butchers  {'Hygiene': 20}\n",
      "6  South Sea Express Cuisine  {'Hygiene': 20}\n",
      "7              Golden Palace  {'Hygiene': 20}\n",
      "8             The Tulip Tree  {'Hygiene': 20}\n",
      "9                      F & S  {'Hygiene': 20}\n"
     ]
    }
   ],
   "source": [
    "# display the first 10 rows\n",
    "print(q1_df.head(10))"
   ]
  },
  {
   "cell_type": "markdown",
   "id": "0ef4395a",
   "metadata": {},
   "source": [
    "### 2. Which establishments in London have a `RatingValue` greater than or equal to 4?"
   ]
  },
  {
   "cell_type": "code",
   "execution_count": 12,
   "id": "93c63829",
   "metadata": {},
   "outputs": [],
   "source": [
    "# Find the establishments with London as the Local Authority and has a RatingValue greater than or equal to 4 using Regex to find the establishments with London as the Local Authority\n",
    "q2_query = {'LocalAuthorityName': {'$regex': 'London', '$options': 'i'}, 'RatingValue': {'$gte': 4}}\n",
    "q2_fields = {'_id': 0, 'BusinessName': 1, 'RatingValue': 1, 'LocalAuthorityName': 1}\n",
    "q2_result = list(establishments.find(q2_query, q2_fields))"
   ]
  },
  {
   "cell_type": "code",
   "execution_count": 13,
   "id": "a4ba1d9e",
   "metadata": {},
   "outputs": [
    {
     "name": "stdout",
     "output_type": "stream",
     "text": [
      "33\n"
     ]
    }
   ],
   "source": [
    "# Use count_documents to display the number of documents in the result\n",
    "print(establishments.count_documents(q2_query))"
   ]
  },
  {
   "cell_type": "code",
   "execution_count": 14,
   "id": "ab4f6dec",
   "metadata": {},
   "outputs": [
    {
     "name": "stdout",
     "output_type": "stream",
     "text": [
      "{'BusinessName': \"Charlie's\",\n",
      " 'LocalAuthorityName': 'City of London Corporation',\n",
      " 'RatingValue': 4}\n"
     ]
    }
   ],
   "source": [
    "# print the first result\n",
    "pprint(q2_result[0])"
   ]
  },
  {
   "cell_type": "code",
   "execution_count": 15,
   "id": "07e24ccb",
   "metadata": {},
   "outputs": [],
   "source": [
    "# Convert the result to a Pandas DataFrame\n",
    "q2_df = pd.DataFrame(list(q2_result))"
   ]
  },
  {
   "cell_type": "code",
   "execution_count": 16,
   "id": "717dbfee",
   "metadata": {},
   "outputs": [
    {
     "name": "stdout",
     "output_type": "stream",
     "text": [
      "33\n"
     ]
    }
   ],
   "source": [
    "# Display the number of rows in the DataFrame\n",
    "print(q2_df.shape[0])"
   ]
  },
  {
   "cell_type": "code",
   "execution_count": 17,
   "id": "68e18d9a",
   "metadata": {},
   "outputs": [
    {
     "data": {
      "text/html": [
       "<div>\n",
       "<style scoped>\n",
       "    .dataframe tbody tr th:only-of-type {\n",
       "        vertical-align: middle;\n",
       "    }\n",
       "\n",
       "    .dataframe tbody tr th {\n",
       "        vertical-align: top;\n",
       "    }\n",
       "\n",
       "    .dataframe thead th {\n",
       "        text-align: right;\n",
       "    }\n",
       "</style>\n",
       "<table border=\"1\" class=\"dataframe\">\n",
       "  <thead>\n",
       "    <tr style=\"text-align: right;\">\n",
       "      <th></th>\n",
       "      <th>BusinessName</th>\n",
       "      <th>RatingValue</th>\n",
       "      <th>LocalAuthorityName</th>\n",
       "    </tr>\n",
       "  </thead>\n",
       "  <tbody>\n",
       "    <tr>\n",
       "      <th>0</th>\n",
       "      <td>Charlie's</td>\n",
       "      <td>4</td>\n",
       "      <td>City of London Corporation</td>\n",
       "    </tr>\n",
       "    <tr>\n",
       "      <th>1</th>\n",
       "      <td>Mv City Cruises Erasmus</td>\n",
       "      <td>5</td>\n",
       "      <td>City of London Corporation</td>\n",
       "    </tr>\n",
       "    <tr>\n",
       "      <th>2</th>\n",
       "      <td>Benfleet Motor Yacht Club</td>\n",
       "      <td>4</td>\n",
       "      <td>City of London Corporation</td>\n",
       "    </tr>\n",
       "    <tr>\n",
       "      <th>3</th>\n",
       "      <td>Coombs Catering t/a The Lock and Key</td>\n",
       "      <td>5</td>\n",
       "      <td>City of London Corporation</td>\n",
       "    </tr>\n",
       "    <tr>\n",
       "      <th>4</th>\n",
       "      <td>Tilbury Seafarers Centre</td>\n",
       "      <td>5</td>\n",
       "      <td>City of London Corporation</td>\n",
       "    </tr>\n",
       "    <tr>\n",
       "      <th>5</th>\n",
       "      <td>Mv Valulla</td>\n",
       "      <td>5</td>\n",
       "      <td>City of London Corporation</td>\n",
       "    </tr>\n",
       "    <tr>\n",
       "      <th>6</th>\n",
       "      <td>Tereza Joanne</td>\n",
       "      <td>5</td>\n",
       "      <td>City of London Corporation</td>\n",
       "    </tr>\n",
       "    <tr>\n",
       "      <th>7</th>\n",
       "      <td>Brick Lane Brews</td>\n",
       "      <td>4</td>\n",
       "      <td>City of London Corporation</td>\n",
       "    </tr>\n",
       "    <tr>\n",
       "      <th>8</th>\n",
       "      <td>The Nuance Group (UK) Limited</td>\n",
       "      <td>5</td>\n",
       "      <td>City of London Corporation</td>\n",
       "    </tr>\n",
       "    <tr>\n",
       "      <th>9</th>\n",
       "      <td>WH Smith</td>\n",
       "      <td>5</td>\n",
       "      <td>City of London Corporation</td>\n",
       "    </tr>\n",
       "  </tbody>\n",
       "</table>\n",
       "</div>"
      ],
      "text/plain": [
       "                           BusinessName  RatingValue  \\\n",
       "0                             Charlie's            4   \n",
       "1               Mv City Cruises Erasmus            5   \n",
       "2             Benfleet Motor Yacht Club            4   \n",
       "3  Coombs Catering t/a The Lock and Key            5   \n",
       "4              Tilbury Seafarers Centre            5   \n",
       "5                            Mv Valulla            5   \n",
       "6                         Tereza Joanne            5   \n",
       "7                      Brick Lane Brews            4   \n",
       "8         The Nuance Group (UK) Limited            5   \n",
       "9                              WH Smith            5   \n",
       "\n",
       "           LocalAuthorityName  \n",
       "0  City of London Corporation  \n",
       "1  City of London Corporation  \n",
       "2  City of London Corporation  \n",
       "3  City of London Corporation  \n",
       "4  City of London Corporation  \n",
       "5  City of London Corporation  \n",
       "6  City of London Corporation  \n",
       "7  City of London Corporation  \n",
       "8  City of London Corporation  \n",
       "9  City of London Corporation  "
      ]
     },
     "execution_count": 17,
     "metadata": {},
     "output_type": "execute_result"
    }
   ],
   "source": [
    "# Display the first 10 rows of the DataFrame\n",
    "q2_df.head(10)"
   ]
  },
  {
   "attachments": {},
   "cell_type": "markdown",
   "id": "4e570caf",
   "metadata": {},
   "source": [
    "### 3. What are the top 5 establishments with a `RatingValue` rating value of 5, sorted by lowest hygiene score, nearest to the new restaurant added, \"Penang Flavours\"?"
   ]
  },
  {
   "cell_type": "code",
   "execution_count": 37,
   "id": "2c96fe22",
   "metadata": {},
   "outputs": [],
   "source": [
    "# Penang Flavours latitude and longitude\n",
    "degree_search = 0.01\n",
    "latitude = 51.490142\n",
    "longitude = 0.08384"
   ]
  },
  {
   "cell_type": "code",
   "execution_count": 41,
   "id": "053f8959",
   "metadata": {},
   "outputs": [],
   "source": [
    "# Question 3 query\n",
    "q3_query = {\"RatingValue\": 5, \"geocode.latitude\": {\"$lte\": latitude + degree_search, \"$gte\": latitude - degree_search}, \"geocode.longitude\": {\"$lte\": longitude + degree_search, \"$gte\": longitude - degree_search}}"
   ]
  },
  {
   "cell_type": "code",
   "execution_count": 42,
   "id": "a9eeb2ba",
   "metadata": {},
   "outputs": [],
   "source": [
    "# fields to return\n",
    "q3_fields = {\"_id\": 0, \"BusinessName\": 1, \"RatingValue\": 1, \"geocode.latitude\": 1, \"geocode.longitude\": 1, \"scores.Hygiene\": 1}"
   ]
  },
  {
   "cell_type": "code",
   "execution_count": 43,
   "id": "53e92c9c",
   "metadata": {},
   "outputs": [],
   "source": [
    "# execute the query and sort the results by RatingValue and limit the results to 5\n",
    "query3_results = list(establishments.find(q3_query, q3_fields).sort(\"scores.Hygiene\", -1).limit(5))"
   ]
  },
  {
   "cell_type": "code",
   "execution_count": 44,
   "id": "bfde0ee7",
   "metadata": {},
   "outputs": [
    {
     "name": "stdout",
     "output_type": "stream",
     "text": [
      "[{'BusinessName': 'Lucky Food & Wine',\n",
      "  'RatingValue': 5,\n",
      "  'geocode': {'latitude': 51.4878934, 'longitude': 0.0910104},\n",
      "  'scores': {'Hygiene': 5}},\n",
      " {'BusinessName': 'Everest Stores Ltd',\n",
      "  'RatingValue': 5,\n",
      "  'geocode': {'latitude': 51.4876718, 'longitude': 0.0903232},\n",
      "  'scores': {'Hygiene': 5}},\n",
      " {'BusinessName': 'Premier Express',\n",
      "  'RatingValue': 5,\n",
      "  'geocode': {'latitude': 51.4877234, 'longitude': 0.0904552},\n",
      "  'scores': {'Hygiene': 5}},\n",
      " {'BusinessName': 'Fineway Cash & Carry',\n",
      "  'RatingValue': 5,\n",
      "  'geocode': {'latitude': 51.4876089, 'longitude': 0.0909382},\n",
      "  'scores': {'Hygiene': 5}},\n",
      " {'BusinessName': 'TIWA N TIWA African Restaurant Ltd',\n",
      "  'RatingValue': 5,\n",
      "  'geocode': {'latitude': 51.4870351, 'longitude': 0.0927429},\n",
      "  'scores': {'Hygiene': 5}}]\n"
     ]
    }
   ],
   "source": [
    "# print all the results\n",
    "pprint(query3_results)"
   ]
  },
  {
   "cell_type": "code",
   "execution_count": 45,
   "id": "a6ad16f7",
   "metadata": {},
   "outputs": [
    {
     "data": {
      "text/html": [
       "<div>\n",
       "<style scoped>\n",
       "    .dataframe tbody tr th:only-of-type {\n",
       "        vertical-align: middle;\n",
       "    }\n",
       "\n",
       "    .dataframe tbody tr th {\n",
       "        vertical-align: top;\n",
       "    }\n",
       "\n",
       "    .dataframe thead th {\n",
       "        text-align: right;\n",
       "    }\n",
       "</style>\n",
       "<table border=\"1\" class=\"dataframe\">\n",
       "  <thead>\n",
       "    <tr style=\"text-align: right;\">\n",
       "      <th></th>\n",
       "      <th>BusinessName</th>\n",
       "      <th>RatingValue</th>\n",
       "      <th>scores</th>\n",
       "      <th>geocode</th>\n",
       "    </tr>\n",
       "  </thead>\n",
       "  <tbody>\n",
       "    <tr>\n",
       "      <th>0</th>\n",
       "      <td>Lucky Food &amp; Wine</td>\n",
       "      <td>5</td>\n",
       "      <td>{'Hygiene': 5}</td>\n",
       "      <td>{'longitude': 0.0910104, 'latitude': 51.4878934}</td>\n",
       "    </tr>\n",
       "    <tr>\n",
       "      <th>1</th>\n",
       "      <td>Everest Stores Ltd</td>\n",
       "      <td>5</td>\n",
       "      <td>{'Hygiene': 5}</td>\n",
       "      <td>{'longitude': 0.0903232, 'latitude': 51.4876718}</td>\n",
       "    </tr>\n",
       "    <tr>\n",
       "      <th>2</th>\n",
       "      <td>Premier Express</td>\n",
       "      <td>5</td>\n",
       "      <td>{'Hygiene': 5}</td>\n",
       "      <td>{'longitude': 0.0904552, 'latitude': 51.4877234}</td>\n",
       "    </tr>\n",
       "    <tr>\n",
       "      <th>3</th>\n",
       "      <td>Fineway Cash &amp; Carry</td>\n",
       "      <td>5</td>\n",
       "      <td>{'Hygiene': 5}</td>\n",
       "      <td>{'longitude': 0.0909382, 'latitude': 51.4876089}</td>\n",
       "    </tr>\n",
       "    <tr>\n",
       "      <th>4</th>\n",
       "      <td>TIWA N TIWA African Restaurant Ltd</td>\n",
       "      <td>5</td>\n",
       "      <td>{'Hygiene': 5}</td>\n",
       "      <td>{'longitude': 0.0927429, 'latitude': 51.4870351}</td>\n",
       "    </tr>\n",
       "  </tbody>\n",
       "</table>\n",
       "</div>"
      ],
      "text/plain": [
       "                         BusinessName  RatingValue          scores  \\\n",
       "0                   Lucky Food & Wine            5  {'Hygiene': 5}   \n",
       "1                  Everest Stores Ltd            5  {'Hygiene': 5}   \n",
       "2                     Premier Express            5  {'Hygiene': 5}   \n",
       "3                Fineway Cash & Carry            5  {'Hygiene': 5}   \n",
       "4  TIWA N TIWA African Restaurant Ltd            5  {'Hygiene': 5}   \n",
       "\n",
       "                                            geocode  \n",
       "0  {'longitude': 0.0910104, 'latitude': 51.4878934}  \n",
       "1  {'longitude': 0.0903232, 'latitude': 51.4876718}  \n",
       "2  {'longitude': 0.0904552, 'latitude': 51.4877234}  \n",
       "3  {'longitude': 0.0909382, 'latitude': 51.4876089}  \n",
       "4  {'longitude': 0.0927429, 'latitude': 51.4870351}  "
      ]
     },
     "execution_count": 45,
     "metadata": {},
     "output_type": "execute_result"
    }
   ],
   "source": [
    "# convert the q3_results to a DataFrame\n",
    "q3_df = pd.DataFrame(list(query3_results))\n",
    "\n",
    "q3_df"
   ]
  },
  {
   "cell_type": "markdown",
   "id": "67281254",
   "metadata": {},
   "source": [
    "### 4. How many establishments in each Local Authority area have a hygiene score of 0?"
   ]
  },
  {
   "cell_type": "code",
   "execution_count": 46,
   "id": "4eeb227e",
   "metadata": {},
   "outputs": [
    {
     "name": "stdout",
     "output_type": "stream",
     "text": [
      "16827\n",
      "[{'_id': 'Thanet', 'count': 1130}, {'_id': 'Greenwich', 'count': 882}, {'_id': 'Maidstone', 'count': 713}, {'_id': 'Newham', 'count': 711}, {'_id': 'Swale', 'count': 686}, {'_id': 'Chelmsford', 'count': 680}, {'_id': 'Medway', 'count': 672}, {'_id': 'Bexley', 'count': 607}, {'_id': 'Southend-On-Sea', 'count': 586}, {'_id': 'Tendring', 'count': 542}]\n"
     ]
    }
   ],
   "source": [
    "# Create a pipeline that:\n",
    "# 1. Matches establishments with a hygiene score of 0\n",
    "q4_query = {\"scores.Hygiene\": 0}\n",
    "\n",
    "# Groups the matches by Local Authority\n",
    "q4_pipeline = [{\"$match\": q4_query}, {\"$group\": {\"_id\": \"$LocalAuthorityName\", \"count\": {\"$sum\": 1}}}]\n",
    "\n",
    "# Sorts the matches from highest to lowest\n",
    "q4_pipeline.append({\"$sort\": {\"count\": -1}})\n",
    "\n",
    "# the number of documents in the result\n",
    "print(establishments.count_documents(q4_query))\n",
    "\n",
    "# the first ten results\n",
    "print(list(establishments.aggregate(q4_pipeline))[:10])"
   ]
  },
  {
   "cell_type": "code",
   "execution_count": 47,
   "id": "d8aab364",
   "metadata": {},
   "outputs": [
    {
     "name": "stdout",
     "output_type": "stream",
     "text": [
      "55\n"
     ]
    },
    {
     "data": {
      "text/html": [
       "<div>\n",
       "<style scoped>\n",
       "    .dataframe tbody tr th:only-of-type {\n",
       "        vertical-align: middle;\n",
       "    }\n",
       "\n",
       "    .dataframe tbody tr th {\n",
       "        vertical-align: top;\n",
       "    }\n",
       "\n",
       "    .dataframe thead th {\n",
       "        text-align: right;\n",
       "    }\n",
       "</style>\n",
       "<table border=\"1\" class=\"dataframe\">\n",
       "  <thead>\n",
       "    <tr style=\"text-align: right;\">\n",
       "      <th></th>\n",
       "      <th>_id</th>\n",
       "      <th>count</th>\n",
       "    </tr>\n",
       "  </thead>\n",
       "  <tbody>\n",
       "    <tr>\n",
       "      <th>0</th>\n",
       "      <td>Thanet</td>\n",
       "      <td>1130</td>\n",
       "    </tr>\n",
       "    <tr>\n",
       "      <th>1</th>\n",
       "      <td>Greenwich</td>\n",
       "      <td>882</td>\n",
       "    </tr>\n",
       "    <tr>\n",
       "      <th>2</th>\n",
       "      <td>Maidstone</td>\n",
       "      <td>713</td>\n",
       "    </tr>\n",
       "    <tr>\n",
       "      <th>3</th>\n",
       "      <td>Newham</td>\n",
       "      <td>711</td>\n",
       "    </tr>\n",
       "    <tr>\n",
       "      <th>4</th>\n",
       "      <td>Swale</td>\n",
       "      <td>686</td>\n",
       "    </tr>\n",
       "    <tr>\n",
       "      <th>5</th>\n",
       "      <td>Chelmsford</td>\n",
       "      <td>680</td>\n",
       "    </tr>\n",
       "    <tr>\n",
       "      <th>6</th>\n",
       "      <td>Medway</td>\n",
       "      <td>672</td>\n",
       "    </tr>\n",
       "    <tr>\n",
       "      <th>7</th>\n",
       "      <td>Bexley</td>\n",
       "      <td>607</td>\n",
       "    </tr>\n",
       "    <tr>\n",
       "      <th>8</th>\n",
       "      <td>Southend-On-Sea</td>\n",
       "      <td>586</td>\n",
       "    </tr>\n",
       "    <tr>\n",
       "      <th>9</th>\n",
       "      <td>Tendring</td>\n",
       "      <td>542</td>\n",
       "    </tr>\n",
       "  </tbody>\n",
       "</table>\n",
       "</div>"
      ],
      "text/plain": [
       "               _id  count\n",
       "0           Thanet   1130\n",
       "1        Greenwich    882\n",
       "2        Maidstone    713\n",
       "3           Newham    711\n",
       "4            Swale    686\n",
       "5       Chelmsford    680\n",
       "6           Medway    672\n",
       "7           Bexley    607\n",
       "8  Southend-On-Sea    586\n",
       "9         Tendring    542"
      ]
     },
     "execution_count": 47,
     "metadata": {},
     "output_type": "execute_result"
    }
   ],
   "source": [
    "# data frame creation\n",
    "q4_df = pd.DataFrame(list(establishments.aggregate(q4_pipeline)))\n",
    "\n",
    "# the number of rows in the DataFrame\n",
    "print(q4_df.shape[0])\n",
    "\n",
    "# first 10 rows in the data frame\n",
    "q4_df.head(10)"
   ]
  }
 ],
 "metadata": {
  "kernelspec": {
   "display_name": "Python 3 (ipykernel)",
   "language": "python",
   "name": "python3"
  },
  "language_info": {
   "codemirror_mode": {
    "name": "ipython",
    "version": 3
   },
   "file_extension": ".py",
   "mimetype": "text/x-python",
   "name": "python",
   "nbconvert_exporter": "python",
   "pygments_lexer": "ipython3",
   "version": "3.10.13"
  }
 },
 "nbformat": 4,
 "nbformat_minor": 5
}
